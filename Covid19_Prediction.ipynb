{
 "cells": [
  {
   "cell_type": "code",
   "execution_count": 21,
   "metadata": {},
   "outputs": [
    {
     "data": {
      "text/html": [
       "<div>\n",
       "<style scoped>\n",
       "    .dataframe tbody tr th:only-of-type {\n",
       "        vertical-align: middle;\n",
       "    }\n",
       "\n",
       "    .dataframe tbody tr th {\n",
       "        vertical-align: top;\n",
       "    }\n",
       "\n",
       "    .dataframe thead th {\n",
       "        text-align: right;\n",
       "    }\n",
       "</style>\n",
       "<table border=\"1\" class=\"dataframe\">\n",
       "  <thead>\n",
       "    <tr style=\"text-align: right;\">\n",
       "      <th></th>\n",
       "      <th>Italy_test</th>\n",
       "      <th>US_test</th>\n",
       "      <th>China_confirmid</th>\n",
       "      <th>Italy_confirmid</th>\n",
       "      <th>US_confirmid</th>\n",
       "      <th>China_Recovered</th>\n",
       "      <th>Italy_Recovered</th>\n",
       "      <th>US_Recovered</th>\n",
       "      <th>China_death</th>\n",
       "      <th>Italy_death</th>\n",
       "      <th>US_death</th>\n",
       "      <th>China_active</th>\n",
       "      <th>Italy_active</th>\n",
       "      <th>US_active</th>\n",
       "    </tr>\n",
       "  </thead>\n",
       "  <tbody>\n",
       "    <tr>\n",
       "      <th>2020-04-28</th>\n",
       "      <td>NaN</td>\n",
       "      <td>NaN</td>\n",
       "      <td>83940</td>\n",
       "      <td>201505</td>\n",
       "      <td>1012582</td>\n",
       "      <td>78422</td>\n",
       "      <td>68941</td>\n",
       "      <td>115936</td>\n",
       "      <td>4637</td>\n",
       "      <td>27359</td>\n",
       "      <td>58355</td>\n",
       "      <td>881</td>\n",
       "      <td>105205</td>\n",
       "      <td>838291</td>\n",
       "    </tr>\n",
       "    <tr>\n",
       "      <th>2020-04-29</th>\n",
       "      <td>NaN</td>\n",
       "      <td>NaN</td>\n",
       "      <td>83944</td>\n",
       "      <td>203591</td>\n",
       "      <td>1039909</td>\n",
       "      <td>78474</td>\n",
       "      <td>71252</td>\n",
       "      <td>120720</td>\n",
       "      <td>4637</td>\n",
       "      <td>27682</td>\n",
       "      <td>60967</td>\n",
       "      <td>833</td>\n",
       "      <td>104657</td>\n",
       "      <td>858222</td>\n",
       "    </tr>\n",
       "    <tr>\n",
       "      <th>2020-04-30</th>\n",
       "      <td>NaN</td>\n",
       "      <td>NaN</td>\n",
       "      <td>83956</td>\n",
       "      <td>205463</td>\n",
       "      <td>1069424</td>\n",
       "      <td>78523</td>\n",
       "      <td>75945</td>\n",
       "      <td>153947</td>\n",
       "      <td>4637</td>\n",
       "      <td>27967</td>\n",
       "      <td>62996</td>\n",
       "      <td>796</td>\n",
       "      <td>101551</td>\n",
       "      <td>852481</td>\n",
       "    </tr>\n",
       "    <tr>\n",
       "      <th>2020-05-01</th>\n",
       "      <td>NaN</td>\n",
       "      <td>NaN</td>\n",
       "      <td>83959</td>\n",
       "      <td>207428</td>\n",
       "      <td>1103461</td>\n",
       "      <td>78573</td>\n",
       "      <td>78249</td>\n",
       "      <td>164015</td>\n",
       "      <td>4637</td>\n",
       "      <td>28236</td>\n",
       "      <td>64943</td>\n",
       "      <td>749</td>\n",
       "      <td>100943</td>\n",
       "      <td>874503</td>\n",
       "    </tr>\n",
       "    <tr>\n",
       "      <th>2020-05-02</th>\n",
       "      <td>NaN</td>\n",
       "      <td>NaN</td>\n",
       "      <td>83959</td>\n",
       "      <td>209328</td>\n",
       "      <td>1132539</td>\n",
       "      <td>78586</td>\n",
       "      <td>79914</td>\n",
       "      <td>175382</td>\n",
       "      <td>4637</td>\n",
       "      <td>28710</td>\n",
       "      <td>66369</td>\n",
       "      <td>736</td>\n",
       "      <td>100704</td>\n",
       "      <td>890788</td>\n",
       "    </tr>\n",
       "  </tbody>\n",
       "</table>\n",
       "</div>"
      ],
      "text/plain": [
       "            Italy_test  US_test  China_confirmid  Italy_confirmid  \\\n",
       "2020-04-28         NaN      NaN            83940           201505   \n",
       "2020-04-29         NaN      NaN            83944           203591   \n",
       "2020-04-30         NaN      NaN            83956           205463   \n",
       "2020-05-01         NaN      NaN            83959           207428   \n",
       "2020-05-02         NaN      NaN            83959           209328   \n",
       "\n",
       "            US_confirmid  China_Recovered  Italy_Recovered  US_Recovered  \\\n",
       "2020-04-28       1012582            78422            68941        115936   \n",
       "2020-04-29       1039909            78474            71252        120720   \n",
       "2020-04-30       1069424            78523            75945        153947   \n",
       "2020-05-01       1103461            78573            78249        164015   \n",
       "2020-05-02       1132539            78586            79914        175382   \n",
       "\n",
       "            China_death  Italy_death  US_death  China_active  Italy_active  \\\n",
       "2020-04-28         4637        27359     58355           881        105205   \n",
       "2020-04-29         4637        27682     60967           833        104657   \n",
       "2020-04-30         4637        27967     62996           796        101551   \n",
       "2020-05-01         4637        28236     64943           749        100943   \n",
       "2020-05-02         4637        28710     66369           736        100704   \n",
       "\n",
       "            US_active  \n",
       "2020-04-28     838291  \n",
       "2020-04-29     858222  \n",
       "2020-04-30     852481  \n",
       "2020-05-01     874503  \n",
       "2020-05-02     890788  "
      ]
     },
     "execution_count": 21,
     "metadata": {},
     "output_type": "execute_result"
    }
   ],
   "source": [
    "# Dependency\n",
    "import datetime\n",
    "import matplotlib.pyplot as plt\n",
    "import numpy as np\n",
    "import pandas as pd\n",
    "from sklearn.model_selection import train_test_split\n",
    "from sklearn.linear_model import LinearRegression\n",
    "import seaborn\n",
    "\n",
    "# Resources\n",
    "import import_ipynb\n",
    "import Covid19_Quarantine\n",
    "TotalCovid19Cases = Covid19_Quarantine.TotalCovid19Cases\n",
    "TotalCovid19Cases.tail()"
   ]
  },
  {
   "cell_type": "code",
   "execution_count": 2,
   "metadata": {},
   "outputs": [],
   "source": [
    "US_confirmid_Data =  TotalCovid19Cases[['US_confirmid']]\n",
    "\n",
    "# The days we need to predict\n",
    "predictedDays = 5\n",
    "\n",
    "# Add prediction column\n",
    "dataSet = US_confirmid_Data.assign(Prediction = US_confirmid_Data['US_confirmid'].shift(-predictedDays))\n",
    "\n",
    "# Get a numpy array from the data\n",
    "independent = np.array(dataSet.drop(['Prediction'],1))\n",
    "\n",
    "# #Remove the last rows we try to predict\n",
    "independent = independent[:-predictedDays]"
   ]
  },
  {
   "cell_type": "code",
   "execution_count": 3,
   "metadata": {},
   "outputs": [
    {
     "data": {
      "text/plain": [
       "array([5.000000e+00, 5.000000e+00, 5.000000e+00, 5.000000e+00,\n",
       "       7.000000e+00, 8.000000e+00, 8.000000e+00, 1.100000e+01,\n",
       "       1.100000e+01, 1.100000e+01, 1.100000e+01, 1.100000e+01,\n",
       "       1.100000e+01, 1.100000e+01, 1.100000e+01, 1.200000e+01,\n",
       "       1.200000e+01, 1.300000e+01, 1.300000e+01, 1.300000e+01,\n",
       "       1.300000e+01, 1.300000e+01, 1.300000e+01, 1.300000e+01,\n",
       "       1.300000e+01, 1.500000e+01, 1.500000e+01, 1.500000e+01,\n",
       "       5.100000e+01, 5.100000e+01, 5.700000e+01, 5.800000e+01,\n",
       "       6.000000e+01, 6.800000e+01, 7.400000e+01, 9.800000e+01,\n",
       "       1.180000e+02, 1.490000e+02, 2.170000e+02, 2.620000e+02,\n",
       "       4.020000e+02, 5.180000e+02, 5.830000e+02, 9.590000e+02,\n",
       "       1.281000e+03, 1.663000e+03, 2.179000e+03, 2.727000e+03,\n",
       "       3.499000e+03, 4.632000e+03, 6.421000e+03, 7.783000e+03,\n",
       "       1.374700e+04, 1.927300e+04, 2.560000e+04, 3.327600e+04,\n",
       "       4.384300e+04, 5.373600e+04, 6.577800e+04, 8.383600e+04,\n",
       "       1.016570e+05, 1.214650e+05, 1.409090e+05, 1.618310e+05,\n",
       "       1.881720e+05, 2.132420e+05, 2.436220e+05, 2.753670e+05,\n",
       "       3.086500e+05, 3.368020e+05, 3.663170e+05, 3.971210e+05,\n",
       "       4.286540e+05, 4.627800e+05, 4.965350e+05, 5.263960e+05,\n",
       "       5.553130e+05, 5.806190e+05, 6.076700e+05, 6.363500e+05,\n",
       "       6.675920e+05, 6.997060e+05, 7.321970e+05, 7.588090e+05,\n",
       "       7.843260e+05, 8.118650e+05, 8.403510e+05, 8.691700e+05,\n",
       "       9.053580e+05, 9.381540e+05, 9.657850e+05, 9.881970e+05,\n",
       "       1.012582e+06, 1.039909e+06, 1.069424e+06, 1.103461e+06,\n",
       "       1.132539e+06])"
      ]
     },
     "execution_count": 3,
     "metadata": {},
     "output_type": "execute_result"
    }
   ],
   "source": [
    "# Dependent variable\n",
    "\n",
    "# get a numpy array from the dataframe\n",
    "dependent = np.array(dataSet['Prediction'])\n",
    "\n",
    "# All the dependant value expected\n",
    "dependent = dependent[:-predictedDays]\n",
    "\n",
    "dependent"
   ]
  },
  {
   "cell_type": "code",
   "execution_count": 4,
   "metadata": {},
   "outputs": [],
   "source": [
    "independentTrain, independentTest, dependentTrain, dependentTest = train_test_split(independent, dependent, test_size=0.2)"
   ]
  },
  {
   "cell_type": "code",
   "execution_count": 5,
   "metadata": {},
   "outputs": [
    {
     "name": "stdout",
     "output_type": "stream",
     "text": [
      "Confidence:  0.9920124038357225\n"
     ]
    }
   ],
   "source": [
    "# Create Linear Regression Model\n",
    "linearRegression = LinearRegression()\n",
    "\n",
    "# Train the model\n",
    "linearRegression.fit(independentTrain, dependentTrain)\n",
    "\n",
    "# Test the model\n",
    "confidence = linearRegression.score(independentTest, dependentTest)\n",
    "\n",
    "# Test Confidence\n",
    "print(\"Confidence: \", confidence)"
   ]
  },
  {
   "cell_type": "code",
   "execution_count": 6,
   "metadata": {},
   "outputs": [
    {
     "data": {
      "text/plain": [
       "array([[ 869170],\n",
       "       [ 905358],\n",
       "       [ 938154],\n",
       "       [ 965785],\n",
       "       [ 988197],\n",
       "       [1012582],\n",
       "       [1039909],\n",
       "       [1069424],\n",
       "       [1103461],\n",
       "       [1132539]], dtype=int64)"
      ]
     },
     "execution_count": 6,
     "metadata": {},
     "output_type": "execute_result"
    }
   ],
   "source": [
    "lastRecords = np.array(dataSet.drop(['Prediction'],1))[-predictedDays*2:]\n",
    "lastRecords"
   ]
  },
  {
   "cell_type": "code",
   "execution_count": 7,
   "metadata": {},
   "outputs": [
    {
     "data": {
      "text/plain": [
       "array([1052517, 1095375, 1134216, 1166940, 1193482, 1222362, 1254726,\n",
       "       1289681, 1329991, 1364428])"
      ]
     },
     "execution_count": 7,
     "metadata": {},
     "output_type": "execute_result"
    }
   ],
   "source": [
    "# Get predicted Data\n",
    "prediction_data = linearRegression.predict(lastRecords)\n",
    "\n",
    "# Convert the result to integer\n",
    "predict = prediction_data.astype(int)\n",
    "predict"
   ]
  },
  {
   "cell_type": "code",
   "execution_count": 8,
   "metadata": {
    "scrolled": false
   },
   "outputs": [
    {
     "data": {
      "image/png": "[encoded data removed]",
      "text/plain": [
       "<Figure size 1152x576 with 1 Axes>"
      ]
     },
     "metadata": {
      "needs_background": "light"
     },
     "output_type": "display_data"
    }
   ],
   "source": [
    "# Get the training data for Visualization\n",
    "train = dataSet[:-predictedDays]\n",
    "\n",
    "# Get the Testing data for Visualization\n",
    "testingData = dataSet[-predictedDays:]\n",
    "\n",
    "# The predection data with the new dates\n",
    "newDate = dataSet.last_valid_index() + datetime.timedelta(days=-predictedDays+2)\n",
    "datelist = pd.date_range(newDate , periods=predictedDays*2).tolist()\n",
    "usConfirmidPrediction = pd.DataFrame(predict, columns = ['US_confirmid_prediction'], index = datelist)\n",
    "\n",
    "#Visualize Confirmid Cases Prediction Model\n",
    "plt.figure(figsize=(16,8))\n",
    "plt.title('Confirmid Cases Prediction Model')\n",
    "plt.xlabel('Date', fontsize=18)\n",
    "plt.ylabel('US_confirmid', fontsize=18)\n",
    "plt.plot(train['US_confirmid'])\n",
    "plt.plot(testingData[[ 'US_confirmid']])\n",
    "plt.plot(usConfirmidPrediction[[ 'US_confirmid_prediction']])\n",
    "plt.legend(['Train', 'Testing', 'Prediction'], loc='lower right')\n",
    "plt.show()"
   ]
  },
  {
   "cell_type": "code",
   "execution_count": 9,
   "metadata": {},
   "outputs": [
    {
     "data": {
      "text/html": [
       "<div>\n",
       "<style scoped>\n",
       "    .dataframe tbody tr th:only-of-type {\n",
       "        vertical-align: middle;\n",
       "    }\n",
       "\n",
       "    .dataframe tbody tr th {\n",
       "        vertical-align: top;\n",
       "    }\n",
       "\n",
       "    .dataframe thead th {\n",
       "        text-align: right;\n",
       "    }\n",
       "</style>\n",
       "<table border=\"1\" class=\"dataframe\">\n",
       "  <thead>\n",
       "    <tr style=\"text-align: right;\">\n",
       "      <th></th>\n",
       "      <th>US_confirmid</th>\n",
       "      <th>US_confirmid_prediction</th>\n",
       "    </tr>\n",
       "  </thead>\n",
       "  <tbody>\n",
       "    <tr>\n",
       "      <th>2020-04-29</th>\n",
       "      <td>1039909.0</td>\n",
       "      <td>1052517.0</td>\n",
       "    </tr>\n",
       "    <tr>\n",
       "      <th>2020-04-30</th>\n",
       "      <td>1069424.0</td>\n",
       "      <td>1095375.0</td>\n",
       "    </tr>\n",
       "    <tr>\n",
       "      <th>2020-05-01</th>\n",
       "      <td>1103461.0</td>\n",
       "      <td>1134216.0</td>\n",
       "    </tr>\n",
       "    <tr>\n",
       "      <th>2020-05-02</th>\n",
       "      <td>1132539.0</td>\n",
       "      <td>1166940.0</td>\n",
       "    </tr>\n",
       "    <tr>\n",
       "      <th>2020-05-03</th>\n",
       "      <td>NaN</td>\n",
       "      <td>1193482.0</td>\n",
       "    </tr>\n",
       "    <tr>\n",
       "      <th>2020-05-04</th>\n",
       "      <td>NaN</td>\n",
       "      <td>1222362.0</td>\n",
       "    </tr>\n",
       "    <tr>\n",
       "      <th>2020-05-05</th>\n",
       "      <td>NaN</td>\n",
       "      <td>1254726.0</td>\n",
       "    </tr>\n",
       "    <tr>\n",
       "      <th>2020-05-06</th>\n",
       "      <td>NaN</td>\n",
       "      <td>1289681.0</td>\n",
       "    </tr>\n",
       "    <tr>\n",
       "      <th>2020-05-07</th>\n",
       "      <td>NaN</td>\n",
       "      <td>1329991.0</td>\n",
       "    </tr>\n",
       "    <tr>\n",
       "      <th>2020-05-08</th>\n",
       "      <td>NaN</td>\n",
       "      <td>1364428.0</td>\n",
       "    </tr>\n",
       "  </tbody>\n",
       "</table>\n",
       "</div>"
      ],
      "text/plain": [
       "            US_confirmid  US_confirmid_prediction\n",
       "2020-04-29     1039909.0                1052517.0\n",
       "2020-04-30     1069424.0                1095375.0\n",
       "2020-05-01     1103461.0                1134216.0\n",
       "2020-05-02     1132539.0                1166940.0\n",
       "2020-05-03           NaN                1193482.0\n",
       "2020-05-04           NaN                1222362.0\n",
       "2020-05-05           NaN                1254726.0\n",
       "2020-05-06           NaN                1289681.0\n",
       "2020-05-07           NaN                1329991.0\n",
       "2020-05-08           NaN                1364428.0"
      ]
     },
     "execution_count": 9,
     "metadata": {},
     "output_type": "execute_result"
    }
   ],
   "source": [
    "# merge predected data with the real data for compare \n",
    "usConfirmidPrediction = pd.merge(\n",
    "    US_confirmid_Data, \n",
    "    usConfirmidPrediction, \n",
    "    left_index=True, \n",
    "    right_index=True, \n",
    "    how='outer'\n",
    ")\n",
    "usConfirmidPrediction.tail(predictedDays*2)"
   ]
  },
  {
   "cell_type": "code",
   "execution_count": 10,
   "metadata": {},
   "outputs": [
    {
     "data": {
      "text/html": [
       "<div>\n",
       "<style scoped>\n",
       "    .dataframe tbody tr th:only-of-type {\n",
       "        vertical-align: middle;\n",
       "    }\n",
       "\n",
       "    .dataframe tbody tr th {\n",
       "        vertical-align: top;\n",
       "    }\n",
       "\n",
       "    .dataframe thead th {\n",
       "        text-align: right;\n",
       "    }\n",
       "</style>\n",
       "<table border=\"1\" class=\"dataframe\">\n",
       "  <thead>\n",
       "    <tr style=\"text-align: right;\">\n",
       "      <th></th>\n",
       "      <th>US_confirmid</th>\n",
       "      <th>US_death</th>\n",
       "    </tr>\n",
       "  </thead>\n",
       "  <tbody>\n",
       "    <tr>\n",
       "      <th>2020-04-28</th>\n",
       "      <td>1012582</td>\n",
       "      <td>58355</td>\n",
       "    </tr>\n",
       "    <tr>\n",
       "      <th>2020-04-29</th>\n",
       "      <td>1039909</td>\n",
       "      <td>60967</td>\n",
       "    </tr>\n",
       "    <tr>\n",
       "      <th>2020-04-30</th>\n",
       "      <td>1069424</td>\n",
       "      <td>62996</td>\n",
       "    </tr>\n",
       "    <tr>\n",
       "      <th>2020-05-01</th>\n",
       "      <td>1103461</td>\n",
       "      <td>64943</td>\n",
       "    </tr>\n",
       "    <tr>\n",
       "      <th>2020-05-02</th>\n",
       "      <td>1132539</td>\n",
       "      <td>66369</td>\n",
       "    </tr>\n",
       "  </tbody>\n",
       "</table>\n",
       "</div>"
      ],
      "text/plain": [
       "            US_confirmid  US_death\n",
       "2020-04-28       1012582     58355\n",
       "2020-04-29       1039909     60967\n",
       "2020-04-30       1069424     62996\n",
       "2020-05-01       1103461     64943\n",
       "2020-05-02       1132539     66369"
      ]
     },
     "execution_count": 10,
     "metadata": {},
     "output_type": "execute_result"
    }
   ],
   "source": [
    "# predected death\n",
    "US_confirmidAndDeath =  TotalCovid19Cases[['US_confirmid','US_death']]\n",
    "US_confirmidAndDeath.tail()"
   ]
  },
  {
   "cell_type": "code",
   "execution_count": 11,
   "metadata": {},
   "outputs": [
    {
     "data": {
      "text/html": [
       "<div>\n",
       "<style scoped>\n",
       "    .dataframe tbody tr th:only-of-type {\n",
       "        vertical-align: middle;\n",
       "    }\n",
       "\n",
       "    .dataframe tbody tr th {\n",
       "        vertical-align: top;\n",
       "    }\n",
       "\n",
       "    .dataframe thead th {\n",
       "        text-align: right;\n",
       "    }\n",
       "</style>\n",
       "<table border=\"1\" class=\"dataframe\">\n",
       "  <thead>\n",
       "    <tr style=\"text-align: right;\">\n",
       "      <th></th>\n",
       "      <th>US_confirmid</th>\n",
       "      <th>US_death</th>\n",
       "    </tr>\n",
       "  </thead>\n",
       "  <tbody>\n",
       "    <tr>\n",
       "      <th>US_confirmid</th>\n",
       "      <td>1.000000</td>\n",
       "      <td>0.993191</td>\n",
       "    </tr>\n",
       "    <tr>\n",
       "      <th>US_death</th>\n",
       "      <td>0.993191</td>\n",
       "      <td>1.000000</td>\n",
       "    </tr>\n",
       "  </tbody>\n",
       "</table>\n",
       "</div>"
      ],
      "text/plain": [
       "              US_confirmid  US_death\n",
       "US_confirmid      1.000000  0.993191\n",
       "US_death          0.993191  1.000000"
      ]
     },
     "execution_count": 11,
     "metadata": {},
     "output_type": "execute_result"
    }
   ],
   "source": [
    "# Display the Correlation Matrix\n",
    "US_confirmidAndDeath.corr()"
   ]
  },
  {
   "cell_type": "code",
   "execution_count": 12,
   "metadata": {},
   "outputs": [
    {
     "data": {
      "image/png": "[encoded data removed]",
      "text/plain": [
       "<Figure size 360x360 with 6 Axes>"
      ]
     },
     "metadata": {
      "needs_background": "light"
     },
     "output_type": "display_data"
    }
   ],
   "source": [
    "#Graph the Correlation Matrix\n",
    "seaborn.pairplot(US_confirmidAndDeath)\n",
    "plt.show()"
   ]
  },
  {
   "cell_type": "code",
   "execution_count": 13,
   "metadata": {},
   "outputs": [
    {
     "data": {
      "text/plain": [
       "array([      1,       1,       2,       2,       5,       5,       5,\n",
       "             5,       5,       7,       8,       8,      11,      11,\n",
       "            11,      11,      11,      11,      11,      11,      12,\n",
       "            12,      13,      13,      13,      13,      13,      13,\n",
       "            13,      13,      15,      15,      15,      51,      51,\n",
       "            57,      58,      60,      68,      74,      98,     118,\n",
       "           149,     217,     262,     402,     518,     583,     959,\n",
       "          1281,    1663,    2179,    2727,    3499,    4632,    6421,\n",
       "          7783,   13747,   19273,   25600,   33276,   43843,   53736,\n",
       "         65778,   83836,  101657,  121465,  140909,  161831,  188172,\n",
       "        213242,  243622,  275367,  308650,  336802,  366317,  397121,\n",
       "        428654,  462780,  496535,  526396,  555313,  580619,  607670,\n",
       "        636350,  667592,  699706,  732197,  758809,  784326,  811865,\n",
       "        840351,  869170,  905358,  938154,  965785,  988197, 1012582,\n",
       "       1039909, 1069424, 1103461, 1132539], dtype=int64)"
      ]
     },
     "execution_count": 13,
     "metadata": {},
     "output_type": "execute_result"
    }
   ],
   "source": [
    "# Get a numpy array from the data\n",
    "independent = np.array(US_confirmidAndDeath['US_confirmid'])\n",
    "independent"
   ]
  },
  {
   "cell_type": "code",
   "execution_count": 14,
   "metadata": {},
   "outputs": [
    {
     "data": {
      "text/plain": [
       "array([    0,     0,     0,     0,     0,     0,     0,     0,     0,\n",
       "           0,     0,     0,     0,     0,     0,     0,     0,     0,\n",
       "           0,     0,     0,     0,     0,     0,     0,     0,     0,\n",
       "           0,     0,     0,     0,     0,     0,     0,     0,     0,\n",
       "           0,     0,     1,     1,     6,     7,    11,    12,    14,\n",
       "          17,    21,    22,    28,    36,    41,    49,    58,    73,\n",
       "          99,   133,   164,   258,   349,   442,   586,   786,  1008,\n",
       "        1316,  1726,  2265,  2731,  3420,  4192,  5367,  6501,  7921,\n",
       "        9246, 10855, 12375, 13894, 16191, 18270, 20255, 22333, 24342,\n",
       "       26086, 27870, 30262, 32734, 34827, 37411, 39753, 40945, 42659,\n",
       "       45086, 47412, 49724, 51493, 53755, 54881, 56259, 58355, 60967,\n",
       "       62996, 64943, 66369], dtype=int64)"
      ]
     },
     "execution_count": 14,
     "metadata": {},
     "output_type": "execute_result"
    }
   ],
   "source": [
    "# Dependent variable\n",
    "\n",
    "# get a numpy array from the dataframe\n",
    "dependent = np.array(US_confirmidAndDeath['US_death'])\n",
    "\n",
    "dependent"
   ]
  },
  {
   "cell_type": "code",
   "execution_count": 15,
   "metadata": {},
   "outputs": [],
   "source": [
    "independentTrain, independentTest, dependentTrain, dependentTest = train_test_split(independent, dependent, test_size=0.2)"
   ]
  },
  {
   "cell_type": "code",
   "execution_count": 16,
   "metadata": {},
   "outputs": [
    {
     "name": "stdout",
     "output_type": "stream",
     "text": [
      "Confidence:  0.9822809152755257\n"
     ]
    }
   ],
   "source": [
    "# Create Linear Regression Model to predect Deathes based on confirmed casses\n",
    "linearRegression = LinearRegression()\n",
    "\n",
    "# Train the model\n",
    "linearRegression.fit(independentTrain.reshape(-1, 1), dependentTrain.reshape(-1, 1))\n",
    "\n",
    "# Test the model\n",
    "confidence = linearRegression.score(independentTest.reshape(-1, 1), dependentTest.reshape(-1, 1))\n",
    "\n",
    "# Test Confidence\n",
    "print(\"Confidence: \", confidence)"
   ]
  },
  {
   "cell_type": "code",
   "execution_count": 17,
   "metadata": {},
   "outputs": [
    {
     "data": {
      "text/plain": [
       "array([[57363],\n",
       "       [59733],\n",
       "       [61881],\n",
       "       [63691],\n",
       "       [65159],\n",
       "       [66756],\n",
       "       [68545],\n",
       "       [70478],\n",
       "       [72707],\n",
       "       [74612]])"
      ]
     },
     "execution_count": 17,
     "metadata": {},
     "output_type": "execute_result"
    }
   ],
   "source": [
    "# Get death predected data based on confirmed prediction\n",
    "prediction_data = linearRegression.predict(predict.reshape(-1, 1))\n",
    "\n",
    "# Convert the result to integer\n",
    "US_death_prediction = prediction_data.astype(int)\n",
    "US_death_prediction"
   ]
  },
  {
   "cell_type": "code",
   "execution_count": 18,
   "metadata": {},
   "outputs": [
    {
     "data": {
      "image/png": "[encoded data removed]",
      "text/plain": [
       "<Figure size 1152x576 with 1 Axes>"
      ]
     },
     "metadata": {
      "needs_background": "light"
     },
     "output_type": "display_data"
    }
   ],
   "source": [
    "train = US_confirmidAndDeath[:-predictedDays]\n",
    "testingData = US_confirmidAndDeath[-predictedDays:]\n",
    "\n",
    "# The predection data with the new dates\n",
    "newDate = US_confirmidAndDeath.last_valid_index() + datetime.timedelta(days=-predictedDays+1)\n",
    "datelist = pd.date_range(newDate , periods=predictedDays*2).tolist()\n",
    "usDeathPrediction = pd.DataFrame(US_death_prediction, columns = ['US_death_prediction'], index = datelist)\n",
    "\n",
    "#Visualize Death Prediction Model\n",
    "plt.figure(figsize=(16,8))\n",
    "plt.title('Death Prediction Model')\n",
    "plt.xlabel('Date', fontsize=18)\n",
    "plt.ylabel('US_death', fontsize=18)\n",
    "plt.plot(train['US_death'])\n",
    "plt.plot(testingData[[ 'US_death']])\n",
    "plt.plot(usDeathPrediction[[ 'US_death_prediction']])\n",
    "plt.legend(['Train', 'Testing', 'Prediction'], loc='lower right')\n",
    "plt.show()"
   ]
  },
  {
   "cell_type": "code",
   "execution_count": 19,
   "metadata": {},
   "outputs": [
    {
     "data": {
      "text/html": [
       "<div>\n",
       "<style scoped>\n",
       "    .dataframe tbody tr th:only-of-type {\n",
       "        vertical-align: middle;\n",
       "    }\n",
       "\n",
       "    .dataframe tbody tr th {\n",
       "        vertical-align: top;\n",
       "    }\n",
       "\n",
       "    .dataframe thead th {\n",
       "        text-align: right;\n",
       "    }\n",
       "</style>\n",
       "<table border=\"1\" class=\"dataframe\">\n",
       "  <thead>\n",
       "    <tr style=\"text-align: right;\">\n",
       "      <th></th>\n",
       "      <th>US_confirmid</th>\n",
       "      <th>US_death</th>\n",
       "      <th>US_death_prediction</th>\n",
       "    </tr>\n",
       "  </thead>\n",
       "  <tbody>\n",
       "    <tr>\n",
       "      <th>2020-04-28</th>\n",
       "      <td>1012582.0</td>\n",
       "      <td>58355.0</td>\n",
       "      <td>57363.0</td>\n",
       "    </tr>\n",
       "    <tr>\n",
       "      <th>2020-04-29</th>\n",
       "      <td>1039909.0</td>\n",
       "      <td>60967.0</td>\n",
       "      <td>59733.0</td>\n",
       "    </tr>\n",
       "    <tr>\n",
       "      <th>2020-04-30</th>\n",
       "      <td>1069424.0</td>\n",
       "      <td>62996.0</td>\n",
       "      <td>61881.0</td>\n",
       "    </tr>\n",
       "    <tr>\n",
       "      <th>2020-05-01</th>\n",
       "      <td>1103461.0</td>\n",
       "      <td>64943.0</td>\n",
       "      <td>63691.0</td>\n",
       "    </tr>\n",
       "    <tr>\n",
       "      <th>2020-05-02</th>\n",
       "      <td>1132539.0</td>\n",
       "      <td>66369.0</td>\n",
       "      <td>65159.0</td>\n",
       "    </tr>\n",
       "    <tr>\n",
       "      <th>2020-05-03</th>\n",
       "      <td>NaN</td>\n",
       "      <td>NaN</td>\n",
       "      <td>66756.0</td>\n",
       "    </tr>\n",
       "    <tr>\n",
       "      <th>2020-05-04</th>\n",
       "      <td>NaN</td>\n",
       "      <td>NaN</td>\n",
       "      <td>68545.0</td>\n",
       "    </tr>\n",
       "    <tr>\n",
       "      <th>2020-05-05</th>\n",
       "      <td>NaN</td>\n",
       "      <td>NaN</td>\n",
       "      <td>70478.0</td>\n",
       "    </tr>\n",
       "    <tr>\n",
       "      <th>2020-05-06</th>\n",
       "      <td>NaN</td>\n",
       "      <td>NaN</td>\n",
       "      <td>72707.0</td>\n",
       "    </tr>\n",
       "    <tr>\n",
       "      <th>2020-05-07</th>\n",
       "      <td>NaN</td>\n",
       "      <td>NaN</td>\n",
       "      <td>74612.0</td>\n",
       "    </tr>\n",
       "  </tbody>\n",
       "</table>\n",
       "</div>"
      ],
      "text/plain": [
       "            US_confirmid  US_death  US_death_prediction\n",
       "2020-04-28     1012582.0   58355.0              57363.0\n",
       "2020-04-29     1039909.0   60967.0              59733.0\n",
       "2020-04-30     1069424.0   62996.0              61881.0\n",
       "2020-05-01     1103461.0   64943.0              63691.0\n",
       "2020-05-02     1132539.0   66369.0              65159.0\n",
       "2020-05-03           NaN       NaN              66756.0\n",
       "2020-05-04           NaN       NaN              68545.0\n",
       "2020-05-05           NaN       NaN              70478.0\n",
       "2020-05-06           NaN       NaN              72707.0\n",
       "2020-05-07           NaN       NaN              74612.0"
      ]
     },
     "execution_count": 19,
     "metadata": {},
     "output_type": "execute_result"
    }
   ],
   "source": [
    "# merge predected data with the real data for compare \n",
    "usConfirmidAndDeathPrediction = pd.merge(\n",
    "    US_confirmidAndDeath, \n",
    "    usDeathPrediction, \n",
    "    left_index=True, \n",
    "    right_index=True, \n",
    "    how='outer'\n",
    ")\n",
    "usConfirmidAndDeathPrediction.tail(predictedDays*2)"
   ]
  }
 ],
 "metadata": {
  "kernelspec": {
   "display_name": "Python 3",
   "language": "python",
   "name": "python3"
  },
  "language_info": {
   "codemirror_mode": {
    "name": "ipython",
    "version": 3
   },
   "file_extension": ".py",
   "mimetype": "text/x-python",
   "name": "python",
   "nbconvert_exporter": "python",
   "pygments_lexer": "ipython3",
   "version": "3.7.4"
  }
 },
 "nbformat": 4,
 "nbformat_minor": 4
}
